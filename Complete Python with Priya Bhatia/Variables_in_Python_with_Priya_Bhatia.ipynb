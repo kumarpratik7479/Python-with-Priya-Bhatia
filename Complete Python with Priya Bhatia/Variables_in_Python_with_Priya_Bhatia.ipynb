{
  "nbformat": 4,
  "nbformat_minor": 0,
  "metadata": {
    "colab": {
      "provenance": []
    },
    "kernelspec": {
      "name": "python3",
      "display_name": "Python 3"
    },
    "language_info": {
      "name": "python"
    }
  },
  "cells": [
    {
      "cell_type": "code",
      "execution_count": 1,
      "metadata": {
        "id": "LYEui6uq7dgY"
      },
      "outputs": [],
      "source": [
        "import numpy as np"
      ]
    },
    {
      "cell_type": "code",
      "source": [
        "2+3"
      ],
      "metadata": {
        "colab": {
          "base_uri": "https://localhost:8080/"
        },
        "id": "0Tclx0Q39hjV",
        "outputId": "e6042706-89ad-4ec2-eaef-973bb41af7ac"
      },
      "execution_count": 2,
      "outputs": [
        {
          "output_type": "execute_result",
          "data": {
            "text/plain": [
              "5"
            ]
          },
          "metadata": {},
          "execution_count": 2
        }
      ]
    },
    {
      "cell_type": "code",
      "source": [
        "x=2\n",
        "y=3\n",
        "z=x+y\n",
        "z"
      ],
      "metadata": {
        "colab": {
          "base_uri": "https://localhost:8080/"
        },
        "id": "exWmDeXu-E5O",
        "outputId": "bbcddd39-e77a-4b23-894d-9c501d4583c8"
      },
      "execution_count": 5,
      "outputs": [
        {
          "output_type": "execute_result",
          "data": {
            "text/plain": [
              "5"
            ]
          },
          "metadata": {},
          "execution_count": 5
        }
      ]
    },
    {
      "cell_type": "markdown",
      "source": [
        "#Varriable is a container where we basically try to store any kind of a value. Here = is assignment operator.There is an automatic datatype assinment happened here.type(x) can give us the datatype of x."
      ],
      "metadata": {
        "id": "kYi2eW_w-YUH"
      }
    },
    {
      "cell_type": "code",
      "source": [
        "type(x)\n",
        "type(y)\n",
        "type(z)"
      ],
      "metadata": {
        "colab": {
          "base_uri": "https://localhost:8080/"
        },
        "id": "dEAuGPt1_Lyt",
        "outputId": "408fab83-5622-4086-9f51-67852fc3b81c"
      },
      "execution_count": 8,
      "outputs": [
        {
          "output_type": "execute_result",
          "data": {
            "text/plain": [
              "int"
            ]
          },
          "metadata": {},
          "execution_count": 8
        }
      ]
    },
    {
      "cell_type": "markdown",
      "source": [
        "#Datatypes in Variables\n",
        "#Int = here in int and float coatation is not required anymore.\n",
        "#Float\n",
        "#String = here it used with \"\" like \"Pratik\" but o/p will be in a single coatation like 'Pratik'. Here while adding the two naame to make it fullname concatenation has been performed to add two string.\n",
        "#Boolean =   here the datatype can be finded by using type(val) but remeber that T in true or F in false must be in capital.\n",
        "#Complex = real number + imaginary number this are the 2 components like    7+2i so 7 is real and 2 is imaginary."
      ],
      "metadata": {
        "id": "ogP6LRM9AGkX"
      }
    },
    {
      "cell_type": "code",
      "source": [
        "x=3.568912\n",
        "z = x+y\n",
        "z"
      ],
      "metadata": {
        "colab": {
          "base_uri": "https://localhost:8080/"
        },
        "id": "KXcOKPX0_lkV",
        "outputId": "ccc0fb9f-bff2-4cba-92b4-830f9d7f3a41"
      },
      "execution_count": 13,
      "outputs": [
        {
          "output_type": "execute_result",
          "data": {
            "text/plain": [
              "6.568912"
            ]
          },
          "metadata": {},
          "execution_count": 13
        }
      ]
    },
    {
      "cell_type": "code",
      "source": [
        "type(x)"
      ],
      "metadata": {
        "colab": {
          "base_uri": "https://localhost:8080/"
        },
        "id": "ZSxAtHxhAdPZ",
        "outputId": "2ce2d29c-bfd8-480a-bac6-eec0cc4110f9"
      },
      "execution_count": 14,
      "outputs": [
        {
          "output_type": "execute_result",
          "data": {
            "text/plain": [
              "float"
            ]
          },
          "metadata": {},
          "execution_count": 14
        }
      ]
    },
    {
      "cell_type": "code",
      "source": [
        "name = \"pratik\"\n",
        "name"
      ],
      "metadata": {
        "colab": {
          "base_uri": "https://localhost:8080/",
          "height": 36
        },
        "id": "MZJK2oKXA1Sg",
        "outputId": "6a4d9c33-fcba-4dc4-8504-e009febdc5b8"
      },
      "execution_count": 17,
      "outputs": [
        {
          "output_type": "execute_result",
          "data": {
            "text/plain": [
              "'pratik'"
            ],
            "application/vnd.google.colaboratory.intrinsic+json": {
              "type": "string"
            }
          },
          "metadata": {},
          "execution_count": 17
        }
      ]
    },
    {
      "cell_type": "code",
      "source": [
        " name + \" Jha\""
      ],
      "metadata": {
        "colab": {
          "base_uri": "https://localhost:8080/",
          "height": 36
        },
        "id": "XDimvzJqA7ty",
        "outputId": "77beee9f-651b-4a60-db36-1e87abc06a51"
      },
      "execution_count": 19,
      "outputs": [
        {
          "output_type": "execute_result",
          "data": {
            "text/plain": [
              "'pratik Jha'"
            ],
            "application/vnd.google.colaboratory.intrinsic+json": {
              "type": "string"
            }
          },
          "metadata": {},
          "execution_count": 19
        }
      ]
    },
    {
      "cell_type": "code",
      "source": [
        "fullname = name + \" Jha\"\n",
        "fullname"
      ],
      "metadata": {
        "colab": {
          "base_uri": "https://localhost:8080/",
          "height": 36
        },
        "id": "7Ll28ChyCB6L",
        "outputId": "f53f856b-923c-4b8d-82d2-1b469aa0879a"
      },
      "execution_count": 21,
      "outputs": [
        {
          "output_type": "execute_result",
          "data": {
            "text/plain": [
              "'pratik Jha'"
            ],
            "application/vnd.google.colaboratory.intrinsic+json": {
              "type": "string"
            }
          },
          "metadata": {},
          "execution_count": 21
        }
      ]
    },
    {
      "cell_type": "code",
      "source": [
        "name + \"123\""
      ],
      "metadata": {
        "colab": {
          "base_uri": "https://localhost:8080/",
          "height": 36
        },
        "id": "zlat9R2pCNwE",
        "outputId": "68ef6197-213a-424b-bf8f-ad08c09396e0"
      },
      "execution_count": 23,
      "outputs": [
        {
          "output_type": "execute_result",
          "data": {
            "text/plain": [
              "'pratik123'"
            ],
            "application/vnd.google.colaboratory.intrinsic+json": {
              "type": "string"
            }
          },
          "metadata": {},
          "execution_count": 23
        }
      ]
    },
    {
      "cell_type": "markdown",
      "source": [
        "#here keep in mind only two strings can be concatenate so make the int or float value as string by using this \"\"."
      ],
      "metadata": {
        "id": "L8GdIYzRDJJQ"
      }
    },
    {
      "cell_type": "code",
      "source": [
        "name + \" 0.97\""
      ],
      "metadata": {
        "colab": {
          "base_uri": "https://localhost:8080/",
          "height": 36
        },
        "id": "rIO8ZxDGDF0K",
        "outputId": "474435c6-6ad8-4211-9507-0c64e1264dfc"
      },
      "execution_count": 24,
      "outputs": [
        {
          "output_type": "execute_result",
          "data": {
            "text/plain": [
              "'pratik 0.97'"
            ],
            "application/vnd.google.colaboratory.intrinsic+json": {
              "type": "string"
            }
          },
          "metadata": {},
          "execution_count": 24
        }
      ]
    },
    {
      "cell_type": "code",
      "source": [
        "val = True\n",
        "type(val)"
      ],
      "metadata": {
        "colab": {
          "base_uri": "https://localhost:8080/"
        },
        "id": "9wMh59TfDaFM",
        "outputId": "db6a415e-e620-4b43-f068-2f9c65036c18"
      },
      "execution_count": 25,
      "outputs": [
        {
          "output_type": "execute_result",
          "data": {
            "text/plain": [
              "bool"
            ]
          },
          "metadata": {},
          "execution_count": 25
        }
      ]
    },
    {
      "cell_type": "code",
      "source": [
        "val = False\n",
        "type(val)"
      ],
      "metadata": {
        "colab": {
          "base_uri": "https://localhost:8080/"
        },
        "id": "y5RTEeENDoC7",
        "outputId": "aca171c0-0078-4b1a-edd1-37344cd8c172"
      },
      "execution_count": 27,
      "outputs": [
        {
          "output_type": "execute_result",
          "data": {
            "text/plain": [
              "bool"
            ]
          },
          "metadata": {},
          "execution_count": 27
        }
      ]
    },
    {
      "cell_type": "code",
      "source": [
        "complexNum = 7+2j\n",
        "type(complexNum)"
      ],
      "metadata": {
        "colab": {
          "base_uri": "https://localhost:8080/"
        },
        "id": "iFM6mMQTDtRJ",
        "outputId": "33f0c102-d93e-49aa-9840-a5167a48aac1"
      },
      "execution_count": 30,
      "outputs": [
        {
          "output_type": "execute_result",
          "data": {
            "text/plain": [
              "complex"
            ]
          },
          "metadata": {},
          "execution_count": 30
        }
      ]
    },
    {
      "cell_type": "code",
      "source": [
        "complexNum.real"
      ],
      "metadata": {
        "colab": {
          "base_uri": "https://localhost:8080/"
        },
        "id": "4bBdzyCUFaYe",
        "outputId": "5e1f93b3-41cc-4e5e-94c1-dc339f537151"
      },
      "execution_count": 31,
      "outputs": [
        {
          "output_type": "execute_result",
          "data": {
            "text/plain": [
              "7.0"
            ]
          },
          "metadata": {},
          "execution_count": 31
        }
      ]
    },
    {
      "cell_type": "code",
      "source": [
        "compleNum.imag"
      ],
      "metadata": {
        "colab": {
          "base_uri": "https://localhost:8080/"
        },
        "id": "HvyHoZFCF1xl",
        "outputId": "ea8c8997-42f9-4cd4-e8e0-511a03c8ab30"
      },
      "execution_count": 32,
      "outputs": [
        {
          "output_type": "execute_result",
          "data": {
            "text/plain": [
              "2.0"
            ]
          },
          "metadata": {},
          "execution_count": 32
        }
      ]
    },
    {
      "cell_type": "code",
      "source": [
        "complexNum.conjugate"
      ],
      "metadata": {
        "colab": {
          "base_uri": "https://localhost:8080/"
        },
        "id": "kUVfhMGUF442",
        "outputId": "37f2cb26-0ab0-4934-bf82-527c47ae4429"
      },
      "execution_count": 33,
      "outputs": [
        {
          "output_type": "execute_result",
          "data": {
            "text/plain": [
              "<function complex.conjugate()>"
            ]
          },
          "metadata": {},
          "execution_count": 33
        }
      ]
    },
    {
      "cell_type": "markdown",
      "source": [
        "#The o/p of the above code must return in float datatype.  Python program variables are always case senitive like complexnum must not be written same in boolean where t must be in capital."
      ],
      "metadata": {
        "id": "CA3qOH3fF_iW"
      }
    },
    {
      "cell_type": "code",
      "source": [
        "val1= True\n",
        "val2= False\n",
        "\n",
        "val1 - val2"
      ],
      "metadata": {
        "colab": {
          "base_uri": "https://localhost:8080/"
        },
        "id": "TP8HE2VZF7x9",
        "outputId": "f02c5da0-4b9d-4564-e8f7-b59588bd9bd0"
      },
      "execution_count": 34,
      "outputs": [
        {
          "output_type": "execute_result",
          "data": {
            "text/plain": [
              "1"
            ]
          },
          "metadata": {},
          "execution_count": 34
        }
      ]
    },
    {
      "cell_type": "markdown",
      "source": [
        "#Always remember true is considered as 1 and false is 0 so 1-0=1. As an example you can see val/val2 get error as 1 cannot be divided by zero.\n",
        "\n",
        "#In python garbage collector is always used to clear the unused variables inside the ram."
      ],
      "metadata": {
        "id": "wvj43QMyHhuU"
      }
    },
    {
      "cell_type": "code",
      "source": [
        "val1*val2"
      ],
      "metadata": {
        "colab": {
          "base_uri": "https://localhost:8080/"
        },
        "id": "_JKj3ctYHUQJ",
        "outputId": "d531276a-64a9-4aec-f700-cdc3da39adef"
      },
      "execution_count": 36,
      "outputs": [
        {
          "output_type": "execute_result",
          "data": {
            "text/plain": [
              "0"
            ]
          },
          "metadata": {},
          "execution_count": 36
        }
      ]
    },
    {
      "cell_type": "code",
      "source": [
        "val1/val2"
      ],
      "metadata": {
        "colab": {
          "base_uri": "https://localhost:8080/",
          "height": 175
        },
        "id": "KbbjvyDzHz26",
        "outputId": "10d403a6-9be7-4c45-a1cd-2846826e0483"
      },
      "execution_count": 37,
      "outputs": [
        {
          "output_type": "error",
          "ename": "ZeroDivisionError",
          "evalue": "ignored",
          "traceback": [
            "\u001b[0;31m---------------------------------------------------------------------------\u001b[0m",
            "\u001b[0;31mZeroDivisionError\u001b[0m                         Traceback (most recent call last)",
            "\u001b[0;32m<ipython-input-37-26ffacd1c75c>\u001b[0m in \u001b[0;36m<cell line: 1>\u001b[0;34m()\u001b[0m\n\u001b[0;32m----> 1\u001b[0;31m \u001b[0mval1\u001b[0m\u001b[0;34m/\u001b[0m\u001b[0mval2\u001b[0m\u001b[0;34m\u001b[0m\u001b[0;34m\u001b[0m\u001b[0m\n\u001b[0m",
            "\u001b[0;31mZeroDivisionError\u001b[0m: division by zero"
          ]
        }
      ]
    }
  ]
}