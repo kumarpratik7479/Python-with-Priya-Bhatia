{
  "nbformat": 4,
  "nbformat_minor": 0,
  "metadata": {
    "colab": {
      "provenance": [],
      "toc_visible": true
    },
    "kernelspec": {
      "name": "python3",
      "display_name": "Python 3"
    },
    "language_info": {
      "name": "python"
    }
  },
  "cells": [
    {
      "cell_type": "markdown",
      "source": [
        "#Numpy is nothing but numerical python. It is designed to perform the numerical computation much faster in a highly optimized manner.\n",
        "#Array or Lists can be used as alternative but won't give the optimized result.\n",
        "\n",
        "#Numpy is all about matrix computation where even images can be there in a form of matrix only.\n",
        "#whenever we talk about images and videos/audios everything that we observe internally it get converted into a matrices. So, we must know NumPy.\n",
        "\n"
      ],
      "metadata": {
        "id": "WRfYVjoOSXqr"
      }
    },
    {
      "cell_type": "code",
      "source": [
        "import numpy as np"
      ],
      "metadata": {
        "id": "fuf0FxBIThN5"
      },
      "execution_count": 1,
      "outputs": []
    },
    {
      "cell_type": "code",
      "execution_count": 2,
      "metadata": {
        "colab": {
          "base_uri": "https://localhost:8080/"
        },
        "id": "9bkdA-gSRlPC",
        "outputId": "13fb1bab-5099-4aed-f0a5-7fd086b42b13"
      },
      "outputs": [
        {
          "output_type": "execute_result",
          "data": {
            "text/plain": [
              "array([1, 3, 4, 7, 9])"
            ]
          },
          "metadata": {},
          "execution_count": 2
        }
      ],
      "source": [
        "arr = np.array([1, 3, 4, 7, 9])\n",
        "arr"
      ]
    },
    {
      "cell_type": "code",
      "source": [
        "arr.ndim"
      ],
      "metadata": {
        "colab": {
          "base_uri": "https://localhost:8080/"
        },
        "id": "GyVmJJPBX-nt",
        "outputId": "7c2c91f3-6846-4f54-a9db-6c818b65b182"
      },
      "execution_count": 3,
      "outputs": [
        {
          "output_type": "execute_result",
          "data": {
            "text/plain": [
              "1"
            ]
          },
          "metadata": {},
          "execution_count": 3
        }
      ]
    },
    {
      "cell_type": "code",
      "source": [
        "type(arr)"
      ],
      "metadata": {
        "colab": {
          "base_uri": "https://localhost:8080/"
        },
        "id": "0EYRVQpzUvZI",
        "outputId": "8975c949-6eaa-424f-97fa-ca2df7737e71"
      },
      "execution_count": 4,
      "outputs": [
        {
          "output_type": "execute_result",
          "data": {
            "text/plain": [
              "numpy.ndarray"
            ]
          },
          "metadata": {},
          "execution_count": 4
        }
      ]
    },
    {
      "cell_type": "code",
      "source": [
        "arr2 = np.array([[1,3], [7,9]])\n",
        "arr2"
      ],
      "metadata": {
        "colab": {
          "base_uri": "https://localhost:8080/"
        },
        "id": "Nld5wegQVPbL",
        "outputId": "48454afe-4949-4dea-a8d0-bfeabc4318ba"
      },
      "execution_count": 5,
      "outputs": [
        {
          "output_type": "execute_result",
          "data": {
            "text/plain": [
              "array([[1, 3],\n",
              "       [7, 9]])"
            ]
          },
          "metadata": {},
          "execution_count": 5
        }
      ]
    },
    {
      "cell_type": "code",
      "source": [
        "type(arr2)"
      ],
      "metadata": {
        "colab": {
          "base_uri": "https://localhost:8080/"
        },
        "id": "2m3DH0_QVpu5",
        "outputId": "ebbc821a-1ca3-4718-b127-b30c0cc00576"
      },
      "execution_count": 6,
      "outputs": [
        {
          "output_type": "execute_result",
          "data": {
            "text/plain": [
              "numpy.ndarray"
            ]
          },
          "metadata": {},
          "execution_count": 6
        }
      ]
    },
    {
      "cell_type": "code",
      "source": [
        "arr2.ndim"
      ],
      "metadata": {
        "colab": {
          "base_uri": "https://localhost:8080/"
        },
        "id": "5zLqjKlfX6c8",
        "outputId": "fe706d1d-fbb1-40ae-d8e8-b5b471f514df"
      },
      "execution_count": 7,
      "outputs": [
        {
          "output_type": "execute_result",
          "data": {
            "text/plain": [
              "2"
            ]
          },
          "metadata": {},
          "execution_count": 7
        }
      ]
    },
    {
      "cell_type": "code",
      "source": [
        "arr3 = np.array([[[1,3], [4,7]], [[2,4], [5,7]]])\n",
        "arr3"
      ],
      "metadata": {
        "colab": {
          "base_uri": "https://localhost:8080/"
        },
        "id": "8YwwcjkkV31_",
        "outputId": "b8e4f8a8-4b38-43a5-a99a-0cd98b6e9fc8"
      },
      "execution_count": 8,
      "outputs": [
        {
          "output_type": "execute_result",
          "data": {
            "text/plain": [
              "array([[[1, 3],\n",
              "        [4, 7]],\n",
              "\n",
              "       [[2, 4],\n",
              "        [5, 7]]])"
            ]
          },
          "metadata": {},
          "execution_count": 8
        }
      ]
    },
    {
      "cell_type": "code",
      "source": [
        "type(arr3)"
      ],
      "metadata": {
        "colab": {
          "base_uri": "https://localhost:8080/"
        },
        "id": "IDYoUMRYWlaZ",
        "outputId": "b21e44e2-88cb-4a6c-f0f0-c7b2e63f81c7"
      },
      "execution_count": 9,
      "outputs": [
        {
          "output_type": "execute_result",
          "data": {
            "text/plain": [
              "numpy.ndarray"
            ]
          },
          "metadata": {},
          "execution_count": 9
        }
      ]
    },
    {
      "cell_type": "code",
      "source": [
        "arr3.ndim"
      ],
      "metadata": {
        "colab": {
          "base_uri": "https://localhost:8080/"
        },
        "id": "GxB8-EXZXH8a",
        "outputId": "a6745bf8-ee71-4cdc-e140-01a96af502af"
      },
      "execution_count": 10,
      "outputs": [
        {
          "output_type": "execute_result",
          "data": {
            "text/plain": [
              "3"
            ]
          },
          "metadata": {},
          "execution_count": 10
        }
      ]
    },
    {
      "cell_type": "code",
      "source": [
        "arr3.shape"
      ],
      "metadata": {
        "colab": {
          "base_uri": "https://localhost:8080/"
        },
        "id": "Eb62NKrtXj-B",
        "outputId": "deebbaca-7873-4c5c-c8f3-c40e769e6b92"
      },
      "execution_count": 11,
      "outputs": [
        {
          "output_type": "execute_result",
          "data": {
            "text/plain": [
              "(2, 2, 2)"
            ]
          },
          "metadata": {},
          "execution_count": 11
        }
      ]
    },
    {
      "cell_type": "code",
      "source": [
        "arr.shape"
      ],
      "metadata": {
        "colab": {
          "base_uri": "https://localhost:8080/"
        },
        "id": "hvz5IH_1Y4Rx",
        "outputId": "9b0c9db8-4e48-483c-90a4-0a0d6e022aec"
      },
      "execution_count": 12,
      "outputs": [
        {
          "output_type": "execute_result",
          "data": {
            "text/plain": [
              "(5,)"
            ]
          },
          "metadata": {},
          "execution_count": 12
        }
      ]
    },
    {
      "cell_type": "code",
      "source": [
        "arr2.shape"
      ],
      "metadata": {
        "colab": {
          "base_uri": "https://localhost:8080/"
        },
        "id": "GYdr0iPBY7iz",
        "outputId": "4256e674-4c5a-4507-9d3d-2b4a3c80beac"
      },
      "execution_count": 13,
      "outputs": [
        {
          "output_type": "execute_result",
          "data": {
            "text/plain": [
              "(2, 2)"
            ]
          },
          "metadata": {},
          "execution_count": 13
        }
      ]
    },
    {
      "cell_type": "code",
      "source": [
        " arr4 = np.array([[[1,3], [4,7]], [[2,4], [5,7]], [[1,9],[3,9]]])\n",
        " arr4"
      ],
      "metadata": {
        "colab": {
          "base_uri": "https://localhost:8080/"
        },
        "id": "H3r3FhbKY95B",
        "outputId": "2caae2a1-0fb3-4064-80a0-c50cffbca7a9"
      },
      "execution_count": 14,
      "outputs": [
        {
          "output_type": "execute_result",
          "data": {
            "text/plain": [
              "array([[[1, 3],\n",
              "        [4, 7]],\n",
              "\n",
              "       [[2, 4],\n",
              "        [5, 7]],\n",
              "\n",
              "       [[1, 9],\n",
              "        [3, 9]]])"
            ]
          },
          "metadata": {},
          "execution_count": 14
        }
      ]
    },
    {
      "cell_type": "markdown",
      "source": [
        "#Always consider the array from the no. of bracket or else use the arr.shape to find the same. type.array is used for knowing the datatype of the array.\n",
        "#Always consider the first no. of the arr.ndim is the no. of matrix and remainig will indicate the no. of elemnts in x and y axis of the matrices."
      ],
      "metadata": {
        "id": "s161ri69Xi8Y"
      }
    },
    {
      "cell_type": "code",
      "source": [
        "arr4.ndim"
      ],
      "metadata": {
        "colab": {
          "base_uri": "https://localhost:8080/"
        },
        "id": "RuOMA-QXaRTD",
        "outputId": "ec636fea-f271-4b74-d4e4-8fd6eef36ea8"
      },
      "execution_count": 15,
      "outputs": [
        {
          "output_type": "execute_result",
          "data": {
            "text/plain": [
              "3"
            ]
          },
          "metadata": {},
          "execution_count": 15
        }
      ]
    },
    {
      "cell_type": "code",
      "source": [
        "arr4.shape"
      ],
      "metadata": {
        "colab": {
          "base_uri": "https://localhost:8080/"
        },
        "id": "CDarSEQJatut",
        "outputId": "7edb19b4-839c-4b8b-bc9f-dfb6d299bee9"
      },
      "execution_count": 16,
      "outputs": [
        {
          "output_type": "execute_result",
          "data": {
            "text/plain": [
              "(3, 2, 2)"
            ]
          },
          "metadata": {},
          "execution_count": 16
        }
      ]
    },
    {
      "cell_type": "code",
      "source": [
        "np.arange(1,9)"
      ],
      "metadata": {
        "id": "itfS0-rAa1x4",
        "colab": {
          "base_uri": "https://localhost:8080/"
        },
        "outputId": "100bd9ea-0a3c-4ee4-fe48-9d45d10576d0"
      },
      "execution_count": 17,
      "outputs": [
        {
          "output_type": "execute_result",
          "data": {
            "text/plain": [
              "array([1, 2, 3, 4, 5, 6, 7, 8])"
            ]
          },
          "metadata": {},
          "execution_count": 17
        }
      ]
    },
    {
      "cell_type": "markdown",
      "source": [
        "#This function arange will give the o/p in the form of the arrays which starts from first value inside the bracket till the value before the last number."
      ],
      "metadata": {
        "id": "p-4Frz0IW9uq"
      }
    },
    {
      "cell_type": "code",
      "source": [
        "np.arange(1,9,2)"
      ],
      "metadata": {
        "colab": {
          "base_uri": "https://localhost:8080/"
        },
        "id": "hsAHZm8XWbf9",
        "outputId": "4d6ee07e-2bdc-4c8d-8d95-9a65d316ca51"
      },
      "execution_count": null,
      "outputs": [
        {
          "output_type": "execute_result",
          "data": {
            "text/plain": [
              "array([1, 3, 5, 7])"
            ]
          },
          "metadata": {},
          "execution_count": 22
        }
      ]
    },
    {
      "cell_type": "markdown",
      "source": [
        "#Here the integer 2 use to give jump to the no.of array like in this case it is 2 so it will give 1,3,5,7  but not 9 because it greater then n-1 condition of array."
      ],
      "metadata": {
        "id": "eHfYMQZ6ZFqE"
      }
    },
    {
      "cell_type": "code",
      "source": [
        "np.linspace(1,9,6)"
      ],
      "metadata": {
        "colab": {
          "base_uri": "https://localhost:8080/"
        },
        "id": "LMwseRmyY9Lh",
        "outputId": "708cd002-4023-4117-c373-2423c63e0f81"
      },
      "execution_count": 18,
      "outputs": [
        {
          "output_type": "execute_result",
          "data": {
            "text/plain": [
              "array([1. , 2.6, 4.2, 5.8, 7.4, 9. ])"
            ]
          },
          "metadata": {},
          "execution_count": 18
        }
      ]
    },
    {
      "cell_type": "markdown",
      "source": [
        "#Here the value 6 impact as this will evenly distribute into the given range and it will give the o/p as an array with considering last integer in a bracket unlike arange function."
      ],
      "metadata": {
        "id": "CAQGIZfyaGgW"
      }
    },
    {
      "cell_type": "markdown",
      "source": [
        "#What is the difference between the shallow copy and deep copy ?\n",
        "\n"
      ],
      "metadata": {
        "id": "Aqmj4wVta25A"
      }
    },
    {
      "cell_type": "code",
      "source": [
        "arr2"
      ],
      "metadata": {
        "colab": {
          "base_uri": "https://localhost:8080/"
        },
        "id": "Q1mMK_-7ZfUP",
        "outputId": "111b04e7-34cf-44ef-eb80-735749cce580"
      },
      "execution_count": 19,
      "outputs": [
        {
          "output_type": "execute_result",
          "data": {
            "text/plain": [
              "array([[1, 3],\n",
              "       [7, 9]])"
            ]
          },
          "metadata": {},
          "execution_count": 19
        }
      ]
    },
    {
      "cell_type": "code",
      "source": [
        "shallowarr = arr2"
      ],
      "metadata": {
        "id": "004oxKV8bC6X"
      },
      "execution_count": 20,
      "outputs": []
    },
    {
      "cell_type": "code",
      "source": [
        "deeparr = np.copy(arr2)"
      ],
      "metadata": {
        "id": "rGaGLZPubILG"
      },
      "execution_count": 21,
      "outputs": []
    },
    {
      "cell_type": "code",
      "source": [
        "arr2[0][0] = 5\n",
        "arr2"
      ],
      "metadata": {
        "id": "yzWWykiIbRv9",
        "colab": {
          "base_uri": "https://localhost:8080/"
        },
        "outputId": "4e5e324d-a37c-4fb7-c4d7-d7bed1db8e4b"
      },
      "execution_count": 22,
      "outputs": [
        {
          "output_type": "execute_result",
          "data": {
            "text/plain": [
              "array([[5, 3],\n",
              "       [7, 9]])"
            ]
          },
          "metadata": {},
          "execution_count": 22
        }
      ]
    },
    {
      "cell_type": "code",
      "source": [
        "shallowarr"
      ],
      "metadata": {
        "colab": {
          "base_uri": "https://localhost:8080/"
        },
        "id": "GInCyNQax81Z",
        "outputId": "42c7274e-1459-4506-9d2d-11a1627a8362"
      },
      "execution_count": 24,
      "outputs": [
        {
          "output_type": "execute_result",
          "data": {
            "text/plain": [
              "array([[5, 3],\n",
              "       [7, 9]])"
            ]
          },
          "metadata": {},
          "execution_count": 24
        }
      ]
    },
    {
      "cell_type": "code",
      "source": [
        "deeparr"
      ],
      "metadata": {
        "colab": {
          "base_uri": "https://localhost:8080/"
        },
        "id": "66clQalkyE9l",
        "outputId": "707fad04-4478-44d1-c8af-31965f242719"
      },
      "execution_count": 25,
      "outputs": [
        {
          "output_type": "execute_result",
          "data": {
            "text/plain": [
              "array([[1, 3],\n",
              "       [7, 9]])"
            ]
          },
          "metadata": {},
          "execution_count": 25
        }
      ]
    },
    {
      "cell_type": "markdown",
      "source": [
        "##shallow arr worked as same memory allocated from arr to shallow arr whereas in np.copy  different memory gets created hence changes in shallow arr does not chane deep arr."
      ],
      "metadata": {
        "id": "utFoZJgMzsDt"
      }
    },
    {
      "cell_type": "markdown",
      "source": [
        "#Now we will see  fromfunction in NumPy"
      ],
      "metadata": {
        "id": "GX0n6Xka0fdR"
      }
    },
    {
      "cell_type": "code",
      "source": [
        "np.fromfunction(lambda i,j:i*j, (4,4))"
      ],
      "metadata": {
        "colab": {
          "base_uri": "https://localhost:8080/"
        },
        "id": "IERfZca7zV5I",
        "outputId": "7cdceb87-f3eb-412d-8957-47ffb5ccc374"
      },
      "execution_count": 27,
      "outputs": [
        {
          "output_type": "execute_result",
          "data": {
            "text/plain": [
              "array([[0., 0., 0., 0.],\n",
              "       [0., 1., 2., 3.],\n",
              "       [0., 2., 4., 6.],\n",
              "       [0., 3., 6., 9.]])"
            ]
          },
          "metadata": {},
          "execution_count": 27
        }
      ]
    },
    {
      "cell_type": "code",
      "source": [
        " np.fromfunction(lambda i,j:i==j, (4,4))"
      ],
      "metadata": {
        "colab": {
          "base_uri": "https://localhost:8080/"
        },
        "id": "YKGikIcT1CMg",
        "outputId": "c77670f9-680c-4574-8688-e6935e00f653"
      },
      "execution_count": 31,
      "outputs": [
        {
          "output_type": "execute_result",
          "data": {
            "text/plain": [
              "array([[ True, False, False, False],\n",
              "       [False,  True, False, False],\n",
              "       [False, False,  True, False],\n",
              "       [False, False, False,  True]])"
            ]
          },
          "metadata": {},
          "execution_count": 31
        }
      ]
    },
    {
      "cell_type": "markdown",
      "source": [
        "#So by using this fromfunction we can perform matrix operation with just one line. here we can see that for boolean it shows 'true' whereas in exponential it shows the multiplication of the position of the matrix's element."
      ],
      "metadata": {
        "id": "b7s0M24m15e5"
      }
    },
    {
      "cell_type": "code",
      "source": [
        "np.fromfunction(lambda i,j:i*j, (8,8))"
      ],
      "metadata": {
        "colab": {
          "base_uri": "https://localhost:8080/"
        },
        "id": "3u5XatbE1oQQ",
        "outputId": "b621ba9c-6749-4091-c2c9-9877a656df8d"
      },
      "execution_count": 32,
      "outputs": [
        {
          "output_type": "execute_result",
          "data": {
            "text/plain": [
              "array([[ 0.,  0.,  0.,  0.,  0.,  0.,  0.,  0.],\n",
              "       [ 0.,  1.,  2.,  3.,  4.,  5.,  6.,  7.],\n",
              "       [ 0.,  2.,  4.,  6.,  8., 10., 12., 14.],\n",
              "       [ 0.,  3.,  6.,  9., 12., 15., 18., 21.],\n",
              "       [ 0.,  4.,  8., 12., 16., 20., 24., 28.],\n",
              "       [ 0.,  5., 10., 15., 20., 25., 30., 35.],\n",
              "       [ 0.,  6., 12., 18., 24., 30., 36., 42.],\n",
              "       [ 0.,  7., 14., 21., 28., 35., 42., 49.]])"
            ]
          },
          "metadata": {},
          "execution_count": 32
        }
      ]
    },
    {
      "cell_type": "code",
      "source": [
        "np.fromfunction(lambda i,j:i-j, (6,6))"
      ],
      "metadata": {
        "colab": {
          "base_uri": "https://localhost:8080/"
        },
        "id": "fgnXlXru2l9d",
        "outputId": "dfeb9004-b207-4514-d58b-9fab3c58c353"
      },
      "execution_count": 33,
      "outputs": [
        {
          "output_type": "execute_result",
          "data": {
            "text/plain": [
              "array([[ 0., -1., -2., -3., -4., -5.],\n",
              "       [ 1.,  0., -1., -2., -3., -4.],\n",
              "       [ 2.,  1.,  0., -1., -2., -3.],\n",
              "       [ 3.,  2.,  1.,  0., -1., -2.],\n",
              "       [ 4.,  3.,  2.,  1.,  0., -1.],\n",
              "       [ 5.,  4.,  3.,  2.,  1.,  0.]])"
            ]
          },
          "metadata": {},
          "execution_count": 33
        }
      ]
    },
    {
      "cell_type": "markdown",
      "source": [
        "#Wants to create an identity matrix :- square matix with one's in diagonal\n",
        "#eye is the keyword"
      ],
      "metadata": {
        "id": "obx33bVq3I_3"
      }
    },
    {
      "cell_type": "code",
      "source": [
        "np.eye(5)"
      ],
      "metadata": {
        "colab": {
          "base_uri": "https://localhost:8080/"
        },
        "id": "qCkjTwUD2tpG",
        "outputId": "8fc9f22f-4bbd-4eb3-a0cd-5b8b60ad2b08"
      },
      "execution_count": 34,
      "outputs": [
        {
          "output_type": "execute_result",
          "data": {
            "text/plain": [
              "array([[1., 0., 0., 0., 0.],\n",
              "       [0., 1., 0., 0., 0.],\n",
              "       [0., 0., 1., 0., 0.],\n",
              "       [0., 0., 0., 1., 0.],\n",
              "       [0., 0., 0., 0., 1.]])"
            ]
          },
          "metadata": {},
          "execution_count": 34
        }
      ]
    },
    {
      "cell_type": "markdown",
      "source": [
        "#Reshape function in NumPy"
      ],
      "metadata": {
        "id": "E57SJ2CR3xSz"
      }
    },
    {
      "cell_type": "code",
      "source": [
        "dataset = np.linspace(2,9,50)\n",
        "dataset"
      ],
      "metadata": {
        "colab": {
          "base_uri": "https://localhost:8080/"
        },
        "id": "fJ9YKZv33dXG",
        "outputId": "1f7f83c2-590a-4bbe-b69b-9df762fc1973"
      },
      "execution_count": 52,
      "outputs": [
        {
          "output_type": "execute_result",
          "data": {
            "text/plain": [
              "array([2.        , 2.14285714, 2.28571429, 2.42857143, 2.57142857,\n",
              "       2.71428571, 2.85714286, 3.        , 3.14285714, 3.28571429,\n",
              "       3.42857143, 3.57142857, 3.71428571, 3.85714286, 4.        ,\n",
              "       4.14285714, 4.28571429, 4.42857143, 4.57142857, 4.71428571,\n",
              "       4.85714286, 5.        , 5.14285714, 5.28571429, 5.42857143,\n",
              "       5.57142857, 5.71428571, 5.85714286, 6.        , 6.14285714,\n",
              "       6.28571429, 6.42857143, 6.57142857, 6.71428571, 6.85714286,\n",
              "       7.        , 7.14285714, 7.28571429, 7.42857143, 7.57142857,\n",
              "       7.71428571, 7.85714286, 8.        , 8.14285714, 8.28571429,\n",
              "       8.42857143, 8.57142857, 8.71428571, 8.85714286, 9.        ])"
            ]
          },
          "metadata": {},
          "execution_count": 52
        }
      ]
    },
    {
      "cell_type": "code",
      "source": [
        "dataset2 = np.linspace(1,8,50)\n",
        "dataset2"
      ],
      "metadata": {
        "colab": {
          "base_uri": "https://localhost:8080/"
        },
        "id": "t1bx5HZD4PzA",
        "outputId": "3106665b-ba9f-441f-e322-e5508a693055"
      },
      "execution_count": 46,
      "outputs": [
        {
          "output_type": "execute_result",
          "data": {
            "text/plain": [
              "array([1.        , 1.14285714, 1.28571429, 1.42857143, 1.57142857,\n",
              "       1.71428571, 1.85714286, 2.        , 2.14285714, 2.28571429,\n",
              "       2.42857143, 2.57142857, 2.71428571, 2.85714286, 3.        ,\n",
              "       3.14285714, 3.28571429, 3.42857143, 3.57142857, 3.71428571,\n",
              "       3.85714286, 4.        , 4.14285714, 4.28571429, 4.42857143,\n",
              "       4.57142857, 4.71428571, 4.85714286, 5.        , 5.14285714,\n",
              "       5.28571429, 5.42857143, 5.57142857, 5.71428571, 5.85714286,\n",
              "       6.        , 6.14285714, 6.28571429, 6.42857143, 6.57142857,\n",
              "       6.71428571, 6.85714286, 7.        , 7.14285714, 7.28571429,\n",
              "       7.42857143, 7.57142857, 7.71428571, 7.85714286, 8.        ])"
            ]
          },
          "metadata": {},
          "execution_count": 46
        }
      ]
    },
    {
      "cell_type": "code",
      "source": [
        " dataset.shape"
      ],
      "metadata": {
        "colab": {
          "base_uri": "https://localhost:8080/"
        },
        "id": "_AvKM_FW4eeG",
        "outputId": "a5b7556d-56cb-48fc-9345-721869618de9"
      },
      "execution_count": 53,
      "outputs": [
        {
          "output_type": "execute_result",
          "data": {
            "text/plain": [
              "(50,)"
            ]
          },
          "metadata": {},
          "execution_count": 53
        }
      ]
    },
    {
      "cell_type": "code",
      "source": [
        "dataset2.shape"
      ],
      "metadata": {
        "colab": {
          "base_uri": "https://localhost:8080/"
        },
        "id": "uLsscRoC4ldH",
        "outputId": "1486b6af-de74-48d3-c568-0980d3b800d8"
      },
      "execution_count": 50,
      "outputs": [
        {
          "output_type": "execute_result",
          "data": {
            "text/plain": [
              "(50,)"
            ]
          },
          "metadata": {},
          "execution_count": 50
        }
      ]
    },
    {
      "cell_type": "markdown",
      "source": [
        "#dataset.shape is a function to crosscheck the linspace function has divided the range in by given value or not."
      ],
      "metadata": {
        "id": "e0d8MPTU4u0u"
      }
    },
    {
      "cell_type": "code",
      "source": [
        "dataset2.reshape(2,1,25)"
      ],
      "metadata": {
        "colab": {
          "base_uri": "https://localhost:8080/"
        },
        "id": "IeUEwtGZ4qUS",
        "outputId": "7bf4c239-8286-467b-d59b-7ee325bf958d"
      },
      "execution_count": 48,
      "outputs": [
        {
          "output_type": "execute_result",
          "data": {
            "text/plain": [
              "array([[[1.        , 1.14285714, 1.28571429, 1.42857143, 1.57142857,\n",
              "         1.71428571, 1.85714286, 2.        , 2.14285714, 2.28571429,\n",
              "         2.42857143, 2.57142857, 2.71428571, 2.85714286, 3.        ,\n",
              "         3.14285714, 3.28571429, 3.42857143, 3.57142857, 3.71428571,\n",
              "         3.85714286, 4.        , 4.14285714, 4.28571429, 4.42857143]],\n",
              "\n",
              "       [[4.57142857, 4.71428571, 4.85714286, 5.        , 5.14285714,\n",
              "         5.28571429, 5.42857143, 5.57142857, 5.71428571, 5.85714286,\n",
              "         6.        , 6.14285714, 6.28571429, 6.42857143, 6.57142857,\n",
              "         6.71428571, 6.85714286, 7.        , 7.14285714, 7.28571429,\n",
              "         7.42857143, 7.57142857, 7.71428571, 7.85714286, 8.        ]]])"
            ]
          },
          "metadata": {},
          "execution_count": 48
        }
      ]
    },
    {
      "cell_type": "code",
      "source": [
        "dataset.reshape(2,1,25)"
      ],
      "metadata": {
        "colab": {
          "base_uri": "https://localhost:8080/"
        },
        "id": "llg9rbi55Okx",
        "outputId": "09c867e9-2a27-4278-8afa-904bf5ebd85b"
      },
      "execution_count": 54,
      "outputs": [
        {
          "output_type": "execute_result",
          "data": {
            "text/plain": [
              "array([[[2.        , 2.14285714, 2.28571429, 2.42857143, 2.57142857,\n",
              "         2.71428571, 2.85714286, 3.        , 3.14285714, 3.28571429,\n",
              "         3.42857143, 3.57142857, 3.71428571, 3.85714286, 4.        ,\n",
              "         4.14285714, 4.28571429, 4.42857143, 4.57142857, 4.71428571,\n",
              "         4.85714286, 5.        , 5.14285714, 5.28571429, 5.42857143]],\n",
              "\n",
              "       [[5.57142857, 5.71428571, 5.85714286, 6.        , 6.14285714,\n",
              "         6.28571429, 6.42857143, 6.57142857, 6.71428571, 6.85714286,\n",
              "         7.        , 7.14285714, 7.28571429, 7.42857143, 7.57142857,\n",
              "         7.71428571, 7.85714286, 8.        , 8.14285714, 8.28571429,\n",
              "         8.42857143, 8.57142857, 8.71428571, 8.85714286, 9.        ]]])"
            ]
          },
          "metadata": {},
          "execution_count": 54
        }
      ]
    },
    {
      "cell_type": "markdown",
      "source": [
        "#reshape helps to find the patterns indside the images so multiple matrix's multiplication is required. Hence, reshape is used. Here if a matrix is A*B then other one should be a B*C so that the matrix calxulation can be done relatively accurate and find out the same exact result.\n",
        "#Always remeber the number while reshaping must be exactly multiplicable to the given number so that it cannot show the value error."
      ],
      "metadata": {
        "id": "JlDiFaDj6WIy"
      }
    },
    {
      "cell_type": "code",
      "source": [],
      "metadata": {
        "id": "vDtWp7qgIJOO"
      },
      "execution_count": null,
      "outputs": []
    }
  ]
}